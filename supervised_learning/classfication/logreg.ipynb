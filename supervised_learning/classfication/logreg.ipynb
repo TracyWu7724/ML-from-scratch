{
 "cells": [
  {
   "cell_type": "markdown",
   "id": "9ce160fe",
   "metadata": {},
   "source": [
    "# Logistical Regression for Binary Classification\n"
   ]
  },
  {
   "cell_type": "markdown",
   "id": "5245e9e6",
   "metadata": {},
   "source": [
    "## Statistical Derivation"
   ]
  },
  {
   "cell_type": "markdown",
   "id": "7365fd65",
   "metadata": {},
   "source": [
    "We have $n$ samples $(x_i, y_i)$, where $x_i$ in $\\mathbb{R}^p$ and $y_i$ in \\{0,1\\}\\.\n",
    "\n",
    "\n",
    "---\n",
    "\n",
    "### 1. Logistic Regression Model\n",
    "\n",
    "The probability that $y_i = 1$ given $x_i$ is:\n",
    "\n",
    "$$\n",
    "P(y_i = 1 \\mid x_i, \\beta) = \\frac{1}{1 + \\exp(- x_i^T \\beta)}\n",
    "$$\n",
    "\n",
    "The probability that \\(y_i = 0\\) is:\n",
    "\n",
    "$$\n",
    "P(y_i = 0 \\mid x_i, \\beta) = 1 - P(y_i = 1 \\mid x_i, \\beta) = \\frac{\\exp(- x_i^T \\beta)}{1 + \\exp(- x_i^T \\beta)}\n",
    "$$\n",
    "\n",
    "---\n",
    "\n",
    "### 2. Likelihood Function\n",
    "\n",
    "For $n$ independent samples, the likelihood is:\n",
    "\n",
    "$$\n",
    "L(\\beta \\mid X, y) = \\prod_{i=1}^{n} P(y_i \\mid x_i, \\beta)\n",
    "= \\prod_{i=1}^{n} \\left[ \\left(\\frac{1}{1 + \\exp(-x_i^T \\beta)}\\right)^{y_i} \n",
    "\\left(1 - \\frac{1}{1 + \\exp(-x_i^T \\beta)}\\right)^{1 - y_i} \\right]\n",
    "$$\n",
    "\n",
    "---\n",
    "\n",
    "### 3. Log-Likelihood\n",
    "\n",
    "Taking the logarithm:\n",
    "\n",
    "$$\n",
    "\\ell(\\beta \\mid X, y) = \\sum_{i=1}^{n} \\left[ y_i \\log\\left( \\frac{1}{1 + \\exp(-x_i^T \\beta)} \\right) \n",
    "+ (1 - y_i) \\log \\left( 1 - \\frac{1}{1 + \\exp(-x_i^T \\beta)} \\right) \\right]\n",
    "$$\n",
    "\n",
    "---\n",
    "\n",
    "### 4. Simplify Terms\n",
    "\n",
    "First term:\n",
    "\n",
    "$$\n",
    "y_i \\log \\left( \\frac{1}{1 + \\exp(-x_i^T \\beta)} \\right) = -y_i \\log(1 + \\exp(-x_i^T \\beta))\n",
    "$$\n",
    "\n",
    "Second term:\n",
    "\n",
    "$$\n",
    "(1 - y_i) \\log \\left( \\frac{\\exp(-x_i^T \\beta)}{1 + \\exp(-x_i^T \\beta)} \\right)\n",
    "= -(1 - y_i) x_i^T \\beta - (1 - y_i) \\log(1 + \\exp(-x_i^T \\beta))\n",
    "$$\n",
    "\n",
    "---\n",
    "\n",
    "### 5. Combine Terms\n",
    "\n",
    "So the simplified log-likelihood is:\n",
    "\n",
    "$$\n",
    "\\ell(\\beta \\mid X, y) = \\sum_{i=1}^{n} \\left[ y_i x_i^T \\beta - \\log(1 + \\exp(x_i^T \\beta)) \\right]\n",
    "$$\n",
    "\n",
    "---\n",
    "\n",
    "### 6. Gradient of Negative Log-Likelihood\n",
    "\n",
    "To use **gradient descent**, we minimize the **negative log-likelihood**, $\\mathcal{L}(\\beta) = -\\ell(\\beta)$.\n",
    "\n",
    "We compute the gradient:\n",
    "\n",
    "$$\n",
    "\\begin{aligned}\n",
    "\\frac{\\partial \\mathcal{L}(\\beta)}{\\partial \\beta_j}\n",
    "&= -\\frac{\\partial}{\\partial \\beta_j} \\left[ y \\log \\sigma(x^T \\beta) + (1 - y) \\log(1 - \\sigma(x^T \\beta)) \\right] \\\\\n",
    "\\\\\n",
    "&= -\\left[ \\frac{y}{\\sigma(x^T \\beta)} - \\frac{1 - y}{1 - \\sigma(x^T \\beta)} \\right] \\cdot \\frac{\\partial}{\\partial \\beta_j} \\sigma(x^T \\beta) \\\\\n",
    "\\\\\n",
    "&= -\\left[ \\frac{y}{\\sigma(x^T \\beta)} - \\frac{1 - y}{1 - \\sigma(x^T \\beta)} \\right] \\cdot \\sigma(x^T \\beta)[1 - \\sigma(x^T \\beta)] x_j \\\\\n",
    "\\\\\n",
    "&= -\\left[ \\frac{y - \\sigma(x^T \\beta)}{\\sigma(x^T \\beta)[1 - \\sigma(x^T \\beta)]} \\cdot \\sigma(x^T \\beta)[1 - \\sigma(x^T \\beta)] x_j \\right] \\\\\n",
    "\\\\\n",
    "&= -[y - \\sigma(x^T \\beta)] x_j \\\\\n",
    "\\\\\n",
    "&= [\\sigma(x^T \\beta) - y] x_j\n",
    "\\end{aligned}\n",
    "$$\n",
    "\n",
    "---\n",
    "\n",
    "### 7. Vectorized Gradient (for all features)\n",
    "\n",
    "For the full dataset:\n",
    "\n",
    "$$\n",
    "\\nabla_\\beta \\mathcal{L}(\\beta) = X^T \\left[ \\sigma(X \\beta) - y \\right]\n",
    "$$\n",
    "\n",
    "\n",
    "---\n",
    "\n",
    "### Gradient Descent Update Rule\n",
    "\n",
    "To minimize the negative log-likelihood, we update parameters with:\n",
    "\n",
    "$$\n",
    "\\beta := \\beta - \\alpha \\cdot \\nabla_\\beta \\mathcal{L}(\\beta)\n",
    "$$\n",
    "\n",
    "Where:\n",
    "\n",
    "- $\\alpha$ is the learning rate\n",
    "- The update rule moves $\\beta$ in the direction that reduces the loss\n"
   ]
  },
  {
   "cell_type": "markdown",
   "id": "688faeea",
   "metadata": {},
   "source": [
    "## Python Implementation"
   ]
  },
  {
   "cell_type": "code",
   "execution_count": 115,
   "id": "e67e4b1b",
   "metadata": {},
   "outputs": [],
   "source": [
    "import numpy as np\n",
    "import matplotlib.pyplot as plt\n",
    "from sklearn.datasets import make_classification    \n",
    "from sklearn.model_selection import train_test_split\n",
    "\n",
    "from sklearn.linear_model import LogisticRegression\n",
    "from sklearn.metrics import accuracy_score\n",
    "\n",
    "import torch\n",
    "import torch.nn as nn\n",
    "import torch.optim as optim"
   ]
  },
  {
   "cell_type": "markdown",
   "id": "f18175dc",
   "metadata": {},
   "source": [
    "## Dataset"
   ]
  },
  {
   "cell_type": "code",
   "execution_count": 116,
   "id": "72ae0717",
   "metadata": {},
   "outputs": [],
   "source": [
    "X, Y = make_classification(\n",
    "    n_samples=200, \n",
    "    n_features=3, \n",
    "    n_informative=2, \n",
    "    n_redundant=0, \n",
    "    random_state=42\n",
    ")\n",
    "\n",
    "X_train, X_test, Y_train, Y_test = train_test_split(X, Y, test_size=0.2, random_state=42)\n",
    "\n",
    "X_train_tensor = torch.FloatTensor(X_train)\n",
    "Y_train_tensor = torch.FloatTensor(Y_train).view(-1, 1)\n",
    "X_test_tensor = torch.FloatTensor(X_test)\n",
    "Y_test_tensor = torch.FloatTensor(Y_test).view(-1, 1)"
   ]
  },
  {
   "cell_type": "markdown",
   "id": "1afe40ab",
   "metadata": {},
   "source": [
    "### Method 1: From-scratch method with Numpy"
   ]
  },
  {
   "cell_type": "code",
   "execution_count": 125,
   "id": "2563068f",
   "metadata": {},
   "outputs": [
    {
     "data": {
      "image/png": "[encoded data removed]",
      "text/plain": [
       "<Figure size 432x288 with 1 Axes>"
      ]
     },
     "metadata": {
      "needs_background": "light"
     },
     "output_type": "display_data"
    },
    {
     "name": "stdout",
     "output_type": "stream",
     "text": [
      "Accuracy: 77.50%\n"
     ]
    }
   ],
   "source": [
    "# Sigmoid\n",
    "def sigmoid(X):\n",
    "    return 1 / (1 + np.exp(-X))\n",
    "\n",
    "# SGD update\n",
    "def compute_SGD(X, y, beta, steps, lr):\n",
    "    for _ in range(steps):\n",
    "        i = np.random.randint(len(y))\n",
    "        xi = X[i:i+1]   # shape (1, n_features)\n",
    "        yi = y[i:i+1]   # shape (1,)\n",
    "        \n",
    "        pred = sigmoid(xi.dot(beta))      # shape (1,)\n",
    "        grad = xi.T.dot(pred - yi)        # shape (n_features,)\n",
    "        \n",
    "        beta -= lr * grad.flatten()\n",
    "    return beta\n",
    "\n",
    "# Logistic regression\n",
    "def logistic_regression(X, Y, lr=1e-2, steps=1000, report_every=20):\n",
    "    # Add bias term\n",
    "    X_bias = np.hstack([X, np.ones((X.shape[0], 1))])\n",
    "    beta = np.zeros(X_bias.shape[1])\n",
    "    lls = []\n",
    "    \n",
    "    for step in range(steps):\n",
    "        beta = compute_SGD(X_bias, Y, beta, steps=1, lr=lr)\n",
    "        \n",
    "        if step % report_every == 0:\n",
    "            z = X_bias.dot(beta)\n",
    "            pred = sigmoid(z)\n",
    "            ll = -np.mean(Y * np.log(pred) + (1 - Y) * np.log(1 - pred))\n",
    "            lls.append(ll)\n",
    "    \n",
    "    return beta, lls\n",
    "\n",
    "def predict(X, beta):\n",
    "    X_bias = np.hstack([X, np.ones((X.shape[0], 1))])\n",
    "    probs = sigmoid(X_bias.dot(beta))\n",
    "    return (probs >= 0.5).astype(int)\n",
    "\n",
    "# Plot function\n",
    "def plot_loss(loss):\n",
    "    plt.plot(range(0, len(loss) * 20, 20), loss)\n",
    "    plt.xlabel('Iteration')\n",
    "    plt.ylabel('Loss')\n",
    "    plt.title('Loss Over Iterations')\n",
    "    plt.show()\n",
    "\n",
    "# Train\n",
    "beta, lls = logistic_regression(X_train, Y_train, lr=1e-2, steps=1000)\n",
    "plot_loss(lls)\n",
    "\n",
    "# Predict\n",
    "Y_pred = predict(X_test, beta)\n",
    "accuracy = np.mean(Y_pred == Y_test)\n",
    "print(f'Accuracy: {accuracy * 100:.2f}%')\n"
   ]
  },
  {
   "cell_type": "markdown",
   "id": "d29fb7f4",
   "metadata": {},
   "source": [
    "### Method 2: Sklearn method"
   ]
  },
  {
   "cell_type": "code",
   "execution_count": 118,
   "id": "e0665316",
   "metadata": {},
   "outputs": [
    {
     "name": "stdout",
     "output_type": "stream",
     "text": [
      "Accuracy: 77.50%\n"
     ]
    }
   ],
   "source": [
    "model = LogisticRegression(solver='lbfgs', max_iter=1000)\n",
    "model.fit(X_train, Y_train)\n",
    "\n",
    "Y_pred_prob = model.predict_proba(X_test)[:, 1]  \n",
    "Y_pred = model.predict(X_test)                    \n",
    "\n",
    "acc = accuracy_score(Y_test, Y_pred)\n",
    "print(f'Accuracy: {acc * 100:.2f}%')"
   ]
  },
  {
   "cell_type": "markdown",
   "id": "1e8dfccb",
   "metadata": {},
   "source": [
    "### Method 3: From-scratch method with PyTorch"
   ]
  },
  {
   "cell_type": "code",
   "execution_count": 119,
   "id": "ef1636b6",
   "metadata": {},
   "outputs": [],
   "source": [
    "class LogisticRegression(nn.Module):\n",
    "    def __init__(self, input_dim, output_dim):\n",
    "        super().__init__()\n",
    "        self.linear = nn.Linear(input_dim, output_dim)\n",
    "\n",
    "    def forward(self, x):\n",
    "        return torch.sigmoid(self.linear(x))"
   ]
  },
  {
   "cell_type": "code",
   "execution_count": null,
   "id": "4a70c0f8",
   "metadata": {},
   "outputs": [],
   "source": [
    "class Trainer:\n",
    "    def __init__(self, model, lr=0.01):\n",
    "        self.model = model\n",
    "        self.lr = lr\n",
    "        self.loss_func = nn.BCELoss()\n",
    "        self.optimizer = optim.SGD(self.model.parameters(), lr=self.lr)\n",
    "\n",
    "    def train(self, X, Y, epochs=1, steps=1000, log_every=20):\n",
    "        self.model.train()  \n",
    "        loss_list = []\n",
    "\n",
    "        for epoch in range(epochs):\n",
    "            for step in range(steps): \n",
    "                self.optimizer.zero_grad()\n",
    "                outputs = self.model(X)\n",
    "                loss = self.loss_func(outputs, Y)\n",
    "                loss.backward()\n",
    "                self.optimizer.step()\n",
    "\n",
    "                # logging\n",
    "                if (step + 1) % log_every == 0:\n",
    "                    loss_list.append(loss.item())\n",
    "                    # print(f\"Epoch {epoch+1}, Step {step+1}/{steps}, Loss: {loss.item():.4f}\")\n",
    "\n",
    "        return loss_list\n",
    "\n",
    "    def predict(self, X):\n",
    "        self.model.eval() \n",
    "        with torch.no_grad():\n",
    "            return self.model(X)\n",
    "    \n",
    "    def evaluate(self, X, Y):\n",
    "        self.model.eval()\n",
    "        with torch.no_grad():\n",
    "            probs = self.model(X)\n",
    "            preds = (probs >= 0.5).float()\n",
    "            correct = (preds == Y).sum().item()\n",
    "            total = Y.size(0)\n",
    "            acc = correct / total\n",
    "        return acc\n"
   ]
  },
  {
   "cell_type": "code",
   "execution_count": 124,
   "id": "c964827c",
   "metadata": {},
   "outputs": [
    {
     "data": {
      "image/png": "[encoded data removed]",
      "text/plain": [
       "<Figure size 432x288 with 1 Axes>"
      ]
     },
     "metadata": {
      "needs_background": "light"
     },
     "output_type": "display_data"
    },
    {
     "name": "stdout",
     "output_type": "stream",
     "text": [
      "Test Accuracy: 77.50%\n"
     ]
    }
   ],
   "source": [
    "model = LogisticRegression(X_train.shape[1], 1)\n",
    "trainer = Trainer(model, lr=1e-2)\n",
    "\n",
    "losses = trainer.train(X_train_tensor, Y_train_tensor, epochs=1, log_every=20)\n",
    "plot_loss(losses)\n",
    "\n",
    "acc = trainer.evaluate(X_test_tensor, Y_test_tensor)\n",
    "print(f'Test Accuracy: {acc * 100:.2f}%')"
   ]
  }
 ],
 "metadata": {
  "kernelspec": {
   "display_name": "myenv",
   "language": "python",
   "name": "myenv"
  },
  "language_info": {
   "codemirror_mode": {
    "name": "ipython",
    "version": 3
   },
   "file_extension": ".py",
   "mimetype": "text/x-python",
   "name": "python",
   "nbconvert_exporter": "python",
   "pygments_lexer": "ipython3",
   "version": "3.9.10"
  }
 },
 "nbformat": 4,
 "nbformat_minor": 5
}
